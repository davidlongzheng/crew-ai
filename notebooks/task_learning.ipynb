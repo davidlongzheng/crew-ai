{
 "cells": [
  {
   "cell_type": "code",
   "execution_count": 3,
   "metadata": {},
   "outputs": [],
   "source": [
    "import site\n",
    "\n",
    "site.addsitedir(\"../src\")\n",
    "\n",
    "from pathlib import Path\n",
    "\n",
    "import pandas as pd\n",
    "\n",
    "import cpp_game\n",
    "from ai.actor import ModelBatchActor\n",
    "from ai.models import load_model_for_eval\n",
    "from ai.rollout import do_batch_rollout_cpp\n",
    "\n",
    "%matplotlib inline"
   ]
  },
  {
   "cell_type": "code",
   "execution_count": 4,
   "metadata": {},
   "outputs": [],
   "source": [
    "model, model_settings = load_model_for_eval(\n",
    "    Path(\"/Users/davidzheng/projects/crew-ai/outdirs/0525/run_4\")\n",
    ")\n",
    "actor = ModelBatchActor(model)\n",
    "task_defs = model_settings.task_defs"
   ]
  },
  {
   "cell_type": "code",
   "execution_count": 5,
   "metadata": {},
   "outputs": [
    {
     "data": {
      "text/plain": [
       "('1T 7p with(t)', 'I will win 7p with a submarine.', 3)"
      ]
     },
     "execution_count": 5,
     "metadata": {},
     "output_type": "execute_result"
    }
   ],
   "source": [
    "task_defs[0]"
   ]
  },
  {
   "cell_type": "code",
   "execution_count": 6,
   "metadata": {},
   "outputs": [],
   "source": [
    "cpp_settings = model_settings.to_cpp()\n",
    "num_rollouts = 10000\n",
    "batch_rollout = cpp_game.BatchRollout(cpp_settings, num_rollouts)\n",
    "rows = []\n",
    "\n",
    "\n",
    "for mode in [\"random\", \"model\"]:\n",
    "    td = do_batch_rollout_cpp(\n",
    "        batch_rollout,\n",
    "        actor=(actor if mode == \"model\" else None),\n",
    "        batch_seed=42,\n",
    "        device=\"cpu\",\n",
    "    )\n",
    "\n",
    "    for i in range(num_rollouts):\n",
    "        task_idxs = td[\"task_idxs_no_pt\"][i]\n",
    "        task_success = td[\"task_success\"][i]\n",
    "        game_win = td[\"win\"][i].item()\n",
    "        game_difficulty = sum(task_defs[x][2] for x in task_idxs if x != -1)\n",
    "        for task_idx, success in zip(task_idxs, task_success):\n",
    "            if task_idx == -1:\n",
    "                break\n",
    "            formula, desc, difficulty = task_defs[task_idx]\n",
    "            rows.append(\n",
    "                dict(\n",
    "                    mode=mode,\n",
    "                    rollout_idx=i,\n",
    "                    task_idx=task_idx.item(),\n",
    "                    formula=formula,\n",
    "                    task_difficulty=difficulty,\n",
    "                    task_win=success.item(),\n",
    "                    game_win=game_win,\n",
    "                    game_difficulty=game_difficulty,\n",
    "                    desc=desc,\n",
    "                )\n",
    "            )\n",
    "\n",
    "df = pd.DataFrame(rows)"
   ]
  },
  {
   "cell_type": "code",
   "execution_count": 7,
   "metadata": {},
   "outputs": [
    {
     "data": {
      "text/html": [
       "<div>\n",
       "<style scoped>\n",
       "    .dataframe tbody tr th:only-of-type {\n",
       "        vertical-align: middle;\n",
       "    }\n",
       "\n",
       "    .dataframe tbody tr th {\n",
       "        vertical-align: top;\n",
       "    }\n",
       "\n",
       "    .dataframe thead th {\n",
       "        text-align: right;\n",
       "    }\n",
       "</style>\n",
       "<table border=\"1\" class=\"dataframe\">\n",
       "  <thead>\n",
       "    <tr style=\"text-align: right;\">\n",
       "      <th>mode</th>\n",
       "      <th>model</th>\n",
       "      <th>random</th>\n",
       "    </tr>\n",
       "    <tr>\n",
       "      <th>game_difficulty</th>\n",
       "      <th></th>\n",
       "      <th></th>\n",
       "    </tr>\n",
       "  </thead>\n",
       "  <tbody>\n",
       "    <tr>\n",
       "      <th>4</th>\n",
       "      <td>0.685931</td>\n",
       "      <td>0.051813</td>\n",
       "    </tr>\n",
       "    <tr>\n",
       "      <th>5</th>\n",
       "      <td>0.602296</td>\n",
       "      <td>0.025420</td>\n",
       "    </tr>\n",
       "    <tr>\n",
       "      <th>6</th>\n",
       "      <td>0.493501</td>\n",
       "      <td>0.011373</td>\n",
       "    </tr>\n",
       "    <tr>\n",
       "      <th>7</th>\n",
       "      <td>0.399614</td>\n",
       "      <td>0.004247</td>\n",
       "    </tr>\n",
       "  </tbody>\n",
       "</table>\n",
       "</div>"
      ],
      "text/plain": [
       "mode                model    random\n",
       "game_difficulty                    \n",
       "4                0.685931  0.051813\n",
       "5                0.602296  0.025420\n",
       "6                0.493501  0.011373\n",
       "7                0.399614  0.004247"
      ]
     },
     "execution_count": 7,
     "metadata": {},
     "output_type": "execute_result"
    }
   ],
   "source": [
    "df.groupby([\"mode\", \"rollout_idx\"]).first().groupby([\"mode\", \"game_difficulty\"])[\n",
    "    \"game_win\"\n",
    "].mean().unstack(\"mode\")"
   ]
  },
  {
   "cell_type": "code",
   "execution_count": 88,
   "metadata": {},
   "outputs": [
    {
     "data": {
      "text/html": [
       "<div>\n",
       "<style scoped>\n",
       "    .dataframe tbody tr th:only-of-type {\n",
       "        vertical-align: middle;\n",
       "    }\n",
       "\n",
       "    .dataframe tbody tr th {\n",
       "        vertical-align: top;\n",
       "    }\n",
       "\n",
       "    .dataframe thead th {\n",
       "        text-align: right;\n",
       "    }\n",
       "</style>\n",
       "<table border=\"1\" class=\"dataframe\">\n",
       "  <thead>\n",
       "    <tr style=\"text-align: right;\">\n",
       "      <th>mode</th>\n",
       "      <th>model</th>\n",
       "      <th>random</th>\n",
       "      <th>delta</th>\n",
       "    </tr>\n",
       "    <tr>\n",
       "      <th>task_idx</th>\n",
       "      <th></th>\n",
       "      <th></th>\n",
       "      <th></th>\n",
       "    </tr>\n",
       "  </thead>\n",
       "  <tbody>\n",
       "    <tr>\n",
       "      <th>5</th>\n",
       "      <td>0.281250</td>\n",
       "      <td>0.187500</td>\n",
       "      <td>0.093750</td>\n",
       "    </tr>\n",
       "    <tr>\n",
       "      <th>60</th>\n",
       "      <td>0.290323</td>\n",
       "      <td>0.000000</td>\n",
       "      <td>0.290323</td>\n",
       "    </tr>\n",
       "    <tr>\n",
       "      <th>9</th>\n",
       "      <td>0.307692</td>\n",
       "      <td>0.076923</td>\n",
       "      <td>0.230769</td>\n",
       "    </tr>\n",
       "    <tr>\n",
       "      <th>4</th>\n",
       "      <td>0.321429</td>\n",
       "      <td>0.107143</td>\n",
       "      <td>0.214286</td>\n",
       "    </tr>\n",
       "    <tr>\n",
       "      <th>62</th>\n",
       "      <td>0.333333</td>\n",
       "      <td>0.076923</td>\n",
       "      <td>0.256410</td>\n",
       "    </tr>\n",
       "    <tr>\n",
       "      <th>...</th>\n",
       "      <td>...</td>\n",
       "      <td>...</td>\n",
       "      <td>...</td>\n",
       "    </tr>\n",
       "    <tr>\n",
       "      <th>57</th>\n",
       "      <td>0.957317</td>\n",
       "      <td>0.493902</td>\n",
       "      <td>0.463415</td>\n",
       "    </tr>\n",
       "    <tr>\n",
       "      <th>73</th>\n",
       "      <td>0.958333</td>\n",
       "      <td>0.250000</td>\n",
       "      <td>0.708333</td>\n",
       "    </tr>\n",
       "    <tr>\n",
       "      <th>68</th>\n",
       "      <td>0.962025</td>\n",
       "      <td>0.556962</td>\n",
       "      <td>0.405063</td>\n",
       "    </tr>\n",
       "    <tr>\n",
       "      <th>48</th>\n",
       "      <td>0.966480</td>\n",
       "      <td>0.234637</td>\n",
       "      <td>0.731844</td>\n",
       "    </tr>\n",
       "    <tr>\n",
       "      <th>34</th>\n",
       "      <td>0.967742</td>\n",
       "      <td>0.387097</td>\n",
       "      <td>0.580645</td>\n",
       "    </tr>\n",
       "  </tbody>\n",
       "</table>\n",
       "<p>91 rows × 3 columns</p>\n",
       "</div>"
      ],
      "text/plain": [
       "mode         model    random     delta\n",
       "task_idx                              \n",
       "5         0.281250  0.187500  0.093750\n",
       "60        0.290323  0.000000  0.290323\n",
       "9         0.307692  0.076923  0.230769\n",
       "4         0.321429  0.107143  0.214286\n",
       "62        0.333333  0.076923  0.256410\n",
       "...            ...       ...       ...\n",
       "57        0.957317  0.493902  0.463415\n",
       "73        0.958333  0.250000  0.708333\n",
       "68        0.962025  0.556962  0.405063\n",
       "48        0.966480  0.234637  0.731844\n",
       "34        0.967742  0.387097  0.580645\n",
       "\n",
       "[91 rows x 3 columns]"
      ]
     },
     "execution_count": 88,
     "metadata": {},
     "output_type": "execute_result"
    }
   ],
   "source": [
    "df.query(\"game_difficulty == 5\").groupby([\"mode\", \"task_idx\"])[\n",
    "    \"task_win\"\n",
    "].mean().unstack(\"mode\").assign(\n",
    "    delta=lambda df: df[\"model\"] - df[\"random\"]\n",
    ").sort_values(\"model\")"
   ]
  },
  {
   "cell_type": "code",
   "execution_count": null,
   "metadata": {},
   "outputs": [
    {
     "data": {
      "image/png": "[encoded data removed]",
      "text/plain": [
       "<Figure size 640x480 with 1 Axes>"
      ]
     },
     "metadata": {},
     "output_type": "display_data"
    }
   ],
   "source": [
    "plot_df = (\n",
    "    df.query(\"mode == 'model'\")\n",
    "    .groupby([\"game_difficulty\", \"task_idx\"])[\"task_win\"]\n",
    "    .mean()\n",
    "    .unstack(\"game_difficulty\")\n",
    ")\n",
    "for c in plot_df:\n",
    "    plot_df[c].sort_values().dropna().reset_index(drop=True).plot(\n",
    "        label=c, legend=True, grid=True\n",
    "    )"
   ]
  },
  {
   "cell_type": "code",
   "execution_count": 102,
   "metadata": {},
   "outputs": [
    {
     "data": {
      "text/plain": [
       "('T0 #T=1', 'I will win only the first trick.', 3)"
      ]
     },
     "execution_count": 102,
     "metadata": {},
     "output_type": "execute_result"
    }
   ],
   "source": [
    "task_defs[62]"
   ]
  },
  {
   "cell_type": "code",
   "execution_count": null,
   "metadata": {},
   "outputs": [],
   "source": []
  }
 ],
 "metadata": {
  "kernelspec": {
   "display_name": "venv",
   "language": "python",
   "name": "python3"
  },
  "language_info": {
   "codemirror_mode": {
    "name": "ipython",
    "version": 3
   },
   "file_extension": ".py",
   "mimetype": "text/x-python",
   "name": "python",
   "nbconvert_exporter": "python",
   "pygments_lexer": "ipython3",
   "version": "3.12.8"
  }
 },
 "nbformat": 4,
 "nbformat_minor": 2
}
