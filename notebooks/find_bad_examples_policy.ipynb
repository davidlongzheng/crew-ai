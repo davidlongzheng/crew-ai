{
 "cells": [
  {
   "cell_type": "code",
   "execution_count": 1,
   "metadata": {},
   "outputs": [],
   "source": [
    "import site\n",
    "\n",
    "site.addsitedir(\"..\")\n",
    "\n",
    "from pathlib import Path\n",
    "\n",
    "from src.ai.train import *\n",
    "from src.game.tasks import *\n",
    "from src.game.types import *"
   ]
  },
  {
   "cell_type": "code",
   "execution_count": 2,
   "metadata": {},
   "outputs": [],
   "source": [
    "outdir = Path(\"/Users/davidzheng/projects/crew-ai/outdirs/0323/run_26\")"
   ]
  },
  {
   "cell_type": "code",
   "execution_count": 3,
   "metadata": {},
   "outputs": [],
   "source": [
    "settings_dict = torch.load(outdir / \"settings.pth\", weights_only=False)\n",
    "settings = settings_dict[\"settings\"]\n",
    "hp = settings_dict[\"hp\"]\n",
    "models = get_models(hp, settings)\n",
    "policy_model = models[\"policy\"].eval()\n",
    "value_model = models[\"value\"].eval()"
   ]
  },
  {
   "cell_type": "code",
   "execution_count": 4,
   "metadata": {},
   "outputs": [],
   "source": [
    "checkpoint = torch.load(outdir / \"checkpoint.pth\", weights_only=False)\n",
    "policy_model.load_state_dict(checkpoint[\"policy_model\"])\n",
    "value_model.load_state_dict(checkpoint[\"value_model\"])\n",
    "td = checkpoint[\"td\"]\n",
    "td_train = td[: hp.num_train_rollouts_per_round]\n",
    "td_val = td[hp.num_train_rollouts_per_round :]"
   ]
  },
  {
   "cell_type": "code",
   "execution_count": 5,
   "metadata": {},
   "outputs": [],
   "source": [
    "td_train[\"values\"], td_train[\"aux_info_preds\"] = value_model(td_train[\"inps\"])"
   ]
  },
  {
   "cell_type": "code",
   "execution_count": 126,
   "metadata": {},
   "outputs": [],
   "source": [
    "def to_card(x):\n",
    "    if x[1] == settings.num_suits:\n",
    "        return \"nosignal\"\n",
    "    return str(Card(x[0].item() + 1, settings.get_suit(x[1].item())))"
   ]
  },
  {
   "cell_type": "code",
   "execution_count": 127,
   "metadata": {},
   "outputs": [
    {
     "name": "stdout",
     "output_type": "stream",
     "text": [
      "Win rate: 0.734\n",
      "Bad idx: 14\n"
     ]
    }
   ],
   "source": [
    "print(f\"Win rate: {td_train['win'].float().mean():.3f}\")\n",
    "idxs = np.arange(len(td_train[\"win\"]))\n",
    "bad_idx = idxs[~td_train[\"win\"]][1]\n",
    "print(f\"Bad idx: {bad_idx}\")\n",
    "\n",
    "bad_ex = td_train[bad_idx]"
   ]
  },
  {
   "cell_type": "code",
   "execution_count": 116,
   "metadata": {},
   "outputs": [],
   "source": [
    "def print_game(bad_ex):\n",
    "    private = bad_ex[\"inps\"][\"private\"]\n",
    "    valid_actions = bad_ex[\"inps\"][\"valid_actions\"]\n",
    "    actions = bad_ex[\"actions\"]\n",
    "    probs = bad_ex[\"orig_probs\"]\n",
    "    prev_trick = None\n",
    "    tasks = \", \".join(\n",
    "        [\n",
    "            f\"P{p}: {EASY_TASK_DEFS[tidx][0]}\"\n",
    "            for tidx, p in sorted(bad_ex[\"inps\"][\"task_idxs\"][0], key=lambda x: x[1])\n",
    "        ]\n",
    "    )\n",
    "    print(f\"Tasks: {tasks}\")\n",
    "    prev_phase = None\n",
    "\n",
    "    for move, (_priv, _act, _valid, _probs) in enumerate(\n",
    "        zip(private, actions, valid_actions, probs)\n",
    "    ):\n",
    "        if _priv[\"trick\"] != prev_trick:\n",
    "            prev_trick = _priv[\"trick\"]\n",
    "            print(\"=\" * 50)\n",
    "\n",
    "        phase = \"signal\" if _priv[\"phase\"] == 1 else \"play\"\n",
    "        if phase == \"play\" and prev_phase == \"signal\":\n",
    "            print(\"-\" * 25)\n",
    "        prev_phase = phase\n",
    "\n",
    "        if phase == \"signal\":\n",
    "            continue\n",
    "\n",
    "        print(f\"Trick: {_priv['trick']} Phase: {phase} Player: {_priv['player_idx']}\")\n",
    "        hand = \" \".join(to_card(x) for x in _priv[\"hand\"] if x[0] != -1)\n",
    "        print(f\"Hand: {hand}\")\n",
    "        action = to_card(_valid[_act])\n",
    "        print(f\"Action: {action} Prob: {_probs[_act]:.2f}\")\n",
    "        print()\n"
   ]
  },
  {
   "cell_type": "code",
   "execution_count": 149,
   "metadata": {},
   "outputs": [
    {
     "data": {
      "text/plain": [
       "tensor([[1., 0., 1.],\n",
       "        [1., 0., 1.],\n",
       "        [1., 0., 1.],\n",
       "        [1., 0., 1.],\n",
       "        [1., 0., 1.],\n",
       "        [1., 0., 1.],\n",
       "        [1., 0., 1.],\n",
       "        [1., 0., 1.],\n",
       "        [1., 0., 1.],\n",
       "        [1., 0., 1.],\n",
       "        [1., 0., 1.],\n",
       "        [1., 0., 1.],\n",
       "        [1., 0., 1.],\n",
       "        [1., 0., 1.],\n",
       "        [1., 0., 1.],\n",
       "        [1., 0., 1.],\n",
       "        [1., 0., 1.],\n",
       "        [1., 0., 1.],\n",
       "        [1., 0., 1.],\n",
       "        [1., 0., 1.],\n",
       "        [1., 0., 1.],\n",
       "        [1., 0., 1.],\n",
       "        [1., 0., 1.],\n",
       "        [1., 0., 1.],\n",
       "        [1., 0., 1.],\n",
       "        [1., 0., 1.],\n",
       "        [1., 0., 1.],\n",
       "        [1., 0., 1.],\n",
       "        [1., 0., 1.],\n",
       "        [1., 0., 1.],\n",
       "        [1., 0., 1.],\n",
       "        [1., 0., 1.],\n",
       "        [1., 0., 1.],\n",
       "        [1., 0., 1.],\n",
       "        [1., 0., 1.],\n",
       "        [1., 0., 1.]])"
      ]
     },
     "execution_count": 149,
     "metadata": {},
     "output_type": "execute_result"
    }
   ],
   "source": [
    "bad_ex[\"aux_infos\"][:, 24:27]"
   ]
  },
  {
   "cell_type": "code",
   "execution_count": 150,
   "metadata": {},
   "outputs": [
    {
     "data": {
      "text/plain": [
       "tensor([[ 0.9672,  0.1922,  0.8037],\n",
       "        [ 1.0851,  0.0589,  0.7104],\n",
       "        [ 1.0885,  0.0754,  0.6986],\n",
       "        [ 0.9788,  0.1419,  0.7599],\n",
       "        [ 1.0443,  0.1916,  0.7128],\n",
       "        [ 1.0315,  0.0755,  0.8035],\n",
       "        [ 0.9955,  0.0969,  0.9280],\n",
       "        [ 1.0548,  0.0938,  0.9243],\n",
       "        [ 1.0431,  0.0649,  0.9400],\n",
       "        [ 0.9964,  0.0851,  0.9425],\n",
       "        [ 1.1097,  0.0143,  0.9269],\n",
       "        [ 1.0833,  0.0359,  0.9427],\n",
       "        [ 0.9758,  0.0877,  0.8915],\n",
       "        [ 1.0943,  0.0347,  0.8907],\n",
       "        [ 1.0854, -0.0168,  0.9331],\n",
       "        [ 0.9942,  0.1172,  0.9263],\n",
       "        [ 1.0722,  0.0160,  0.9035],\n",
       "        [ 1.0758, -0.0614,  0.9196],\n",
       "        [ 0.9695,  0.1577,  0.9088],\n",
       "        [ 1.0677,  0.0506,  0.8470],\n",
       "        [ 1.0613, -0.0177,  0.8841],\n",
       "        [ 0.9766,  0.1177,  0.9001],\n",
       "        [ 1.0392,  0.0472,  0.8596],\n",
       "        [ 1.0472,  0.1162,  0.8310],\n",
       "        [ 0.9922,  0.0264,  1.0586],\n",
       "        [ 1.0048, -0.0106,  1.0702],\n",
       "        [ 1.0248, -0.0514,  0.9996],\n",
       "        [ 1.0006, -0.0694,  1.0511],\n",
       "        [ 1.0355, -0.1826,  1.0054],\n",
       "        [ 1.0492, -0.1001,  0.9633],\n",
       "        [ 1.0158, -0.0842,  0.9932],\n",
       "        [ 1.0696, -0.0625,  0.9485],\n",
       "        [ 1.0436, -0.0756,  0.9618],\n",
       "        [ 1.0184, -0.0445,  0.9976],\n",
       "        [ 1.0785, -0.1493,  1.0242],\n",
       "        [ 1.0356, -0.0476,  0.9547]], grad_fn=<SliceBackward0>)"
      ]
     },
     "execution_count": 150,
     "metadata": {},
     "output_type": "execute_result"
    }
   ],
   "source": [
    "bad_ex[\"aux_info_preds\"][:, 24:27]"
   ]
  },
  {
   "cell_type": "code",
   "execution_count": 118,
   "metadata": {},
   "outputs": [
    {
     "data": {
      "text/plain": [
       "tensor([-0.2609, -0.1687, -0.1532, -0.2397, -0.1025, -0.1593, -0.3126, -0.2512,\n",
       "        -0.2514, -0.3292, -0.2066, -0.2900, -0.5479, -0.5527, -0.5545, -0.5905,\n",
       "        -0.5391, -0.5710, -0.6303, -0.5882, -0.6298, -0.5822, -0.6665, -0.5740,\n",
       "        -0.6190, -0.6124, -0.5678, -0.5811, -0.6703, -0.5849, -0.6066, -0.5860,\n",
       "        -0.6085, -0.5988, -0.6239, -0.6206])"
      ]
     },
     "execution_count": 118,
     "metadata": {},
     "output_type": "execute_result"
    }
   ],
   "source": [
    "bad_ex[\"orig_values\"]"
   ]
  },
  {
   "cell_type": "code",
   "execution_count": 119,
   "metadata": {},
   "outputs": [
    {
     "data": {
      "text/plain": [
       "tensor([ 0.6470,  0.6612,  0.6575,  0.6429,  0.6654,  0.6470,  0.5519,  0.5577,\n",
       "         0.5546,  0.5499,  0.5373,  0.5328,  0.4633,  0.4564,  0.4515,  0.4478,\n",
       "         0.4367,  0.4324,  0.3512,  0.3341,  0.3371,  0.3310,  0.3250,  0.3274,\n",
       "         0.1616,  0.1663,  0.1574,  0.1603,  0.1511,  0.1401, -0.0244, -0.0210,\n",
       "        -0.0332, -0.0277, -0.0314, -0.0602])"
      ]
     },
     "execution_count": 119,
     "metadata": {},
     "output_type": "execute_result"
    }
   ],
   "source": [
    "td_train[\"orig_values\"].mean(dim=0)"
   ]
  },
  {
   "cell_type": "code",
   "execution_count": 120,
   "metadata": {},
   "outputs": [
    {
     "name": "stdout",
     "output_type": "stream",
     "text": [
      "Tasks: P0: #T>=1, P1: #T>=2, P2: #T>=1\n",
      "==================================================\n",
      "-------------------------\n",
      "Trick: 0 Phase: play Player: 0\n",
      "Hand: 4b 1g 3g 4y 1t 2t\n",
      "Action: 1g Prob: 1.00\n",
      "\n",
      "Trick: 0 Phase: play Player: 1\n",
      "Hand: 2b 1p 2p 4p 1y 2y\n",
      "Action: 1y Prob: 0.54\n",
      "\n",
      "Trick: 0 Phase: play Player: 2\n",
      "Hand: 1b 3b 2g 4g 3p 3y\n",
      "Action: 2g Prob: 0.96\n",
      "\n",
      "==================================================\n",
      "-------------------------\n",
      "Trick: 1 Phase: play Player: 2\n",
      "Hand: 1b 3b 4g 3p 3y\n",
      "Action: 1b Prob: 0.97\n",
      "\n",
      "Trick: 1 Phase: play Player: 0\n",
      "Hand: 4b 3g 4y 1t 2t\n",
      "Action: 4b Prob: 1.00\n",
      "\n",
      "Trick: 1 Phase: play Player: 1\n",
      "Hand: 2b 1p 2p 4p 2y\n",
      "Action: 2b Prob: 1.00\n",
      "\n",
      "==================================================\n",
      "-------------------------\n",
      "Trick: 2 Phase: play Player: 0\n",
      "Hand: 3g 4y 1t 2t\n",
      "Action: 4y Prob: 0.11\n",
      "\n",
      "Trick: 2 Phase: play Player: 1\n",
      "Hand: 1p 2p 4p 2y\n",
      "Action: 2y Prob: 1.00\n",
      "\n",
      "Trick: 2 Phase: play Player: 2\n",
      "Hand: 3b 4g 3p 3y\n",
      "Action: 3y Prob: 1.00\n",
      "\n",
      "==================================================\n",
      "-------------------------\n",
      "Trick: 3 Phase: play Player: 0\n",
      "Hand: 3g 1t 2t\n",
      "Action: 3g Prob: 0.93\n",
      "\n",
      "Trick: 3 Phase: play Player: 1\n",
      "Hand: 1p 2p 4p\n",
      "Action: 4p Prob: 0.99\n",
      "\n",
      "Trick: 3 Phase: play Player: 2\n",
      "Hand: 3b 4g 3p\n",
      "Action: 4g Prob: 1.00\n",
      "\n",
      "==================================================\n",
      "-------------------------\n",
      "Trick: 4 Phase: play Player: 2\n",
      "Hand: 3b 3p\n",
      "Action: 3p Prob: 0.40\n",
      "\n",
      "Trick: 4 Phase: play Player: 0\n",
      "Hand: 1t 2t\n",
      "Action: 1t Prob: 0.37\n",
      "\n",
      "Trick: 4 Phase: play Player: 1\n",
      "Hand: 1p 2p\n",
      "Action: 2p Prob: 0.37\n",
      "\n",
      "==================================================\n",
      "-------------------------\n",
      "Trick: 5 Phase: play Player: 0\n",
      "Hand: 2t\n",
      "Action: 2t Prob: 1.00\n",
      "\n",
      "Trick: 5 Phase: play Player: 1\n",
      "Hand: 1p\n",
      "Action: 1p Prob: 1.00\n",
      "\n",
      "Trick: 5 Phase: play Player: 2\n",
      "Hand: 3b\n",
      "Action: 3b Prob: 1.00\n",
      "\n"
     ]
    }
   ],
   "source": [
    "print_game(bad_ex)"
   ]
  },
  {
   "cell_type": "code",
   "execution_count": null,
   "metadata": {},
   "outputs": [],
   "source": []
  }
 ],
 "metadata": {
  "kernelspec": {
   "display_name": "venv",
   "language": "python",
   "name": "python3"
  },
  "language_info": {
   "codemirror_mode": {
    "name": "ipython",
    "version": 3
   },
   "file_extension": ".py",
   "mimetype": "text/x-python",
   "name": "python",
   "nbconvert_exporter": "python",
   "pygments_lexer": "ipython3",
   "version": "3.12.8"
  }
 },
 "nbformat": 4,
 "nbformat_minor": 2
}
