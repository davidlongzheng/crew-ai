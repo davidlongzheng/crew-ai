{
 "cells": [
  {
   "cell_type": "code",
   "execution_count": 24,
   "metadata": {},
   "outputs": [],
   "source": [
    "import site\n",
    "\n",
    "site.addsitedir(\"..\")\n",
    "\n",
    "from pathlib import Path\n",
    "\n",
    "import pandas as pd\n",
    "import torch\n",
    "\n",
    "from src.ai.rollout import *\n",
    "from src.ai.train import *"
   ]
  },
  {
   "cell_type": "code",
   "execution_count": 62,
   "metadata": {},
   "outputs": [],
   "source": [
    "outdir = Path(\"/Users/davidzheng/projects/crew-ai/outdirs/0323/run_0\")\n",
    "outdir2 = Path(\"/Users/davidzheng/projects/crew-ai/outdirs/0323/run_7\")"
   ]
  },
  {
   "cell_type": "code",
   "execution_count": 63,
   "metadata": {},
   "outputs": [],
   "source": [
    "settings_dict = torch.load(outdir / \"settings.pth\", weights_only=False)\n",
    "settings = settings_dict[\"settings\"]\n",
    "hp = settings_dict[\"hp\"]\n",
    "models = get_models(hp, settings)\n",
    "policy_model = models[\"policy\"].eval()\n",
    "value_model = models[\"value\"].eval()"
   ]
  },
  {
   "cell_type": "code",
   "execution_count": 64,
   "metadata": {},
   "outputs": [],
   "source": [
    "settings_dict2 = torch.load(outdir2 / \"settings.pth\", weights_only=False)\n",
    "settings2 = settings_dict2[\"settings\"]\n",
    "hp2 = settings_dict2[\"hp\"]\n",
    "models2 = get_models(hp2, settings2)\n",
    "policy_model2 = models2[\"policy\"].eval()\n",
    "value_model2 = models2[\"value\"].eval()"
   ]
  },
  {
   "cell_type": "code",
   "execution_count": 56,
   "metadata": {},
   "outputs": [],
   "source": [
    "checkpoint = torch.load(outdir / \"checkpoint.pth\", weights_only=False)\n",
    "policy_model.load_state_dict(checkpoint[\"policy_model\"])\n",
    "value_model.load_state_dict(checkpoint[\"value_model\"])\n",
    "td = checkpoint[\"td\"]\n",
    "td_train = td[: hp.num_train_rollouts_per_round]\n",
    "td_val = td[hp.num_train_rollouts_per_round :]"
   ]
  },
  {
   "cell_type": "code",
   "execution_count": 65,
   "metadata": {},
   "outputs": [],
   "source": [
    "checkpoint2 = torch.load(outdir2 / \"checkpoint.pth\", weights_only=False)\n",
    "policy_model2.load_state_dict(checkpoint2[\"policy_model\"])\n",
    "value_model2.load_state_dict(checkpoint2[\"value_model\"])\n",
    "td2 = checkpoint2[\"td\"]\n",
    "td_train2 = td2[: hp2.num_train_rollouts_per_round]\n",
    "td_val2 = td2[hp2.num_train_rollouts_per_round :]"
   ]
  },
  {
   "cell_type": "code",
   "execution_count": 66,
   "metadata": {},
   "outputs": [],
   "source": [
    "def entropy(x):\n",
    "    eps = 1e-8\n",
    "    log_eps = np.log2(eps)\n",
    "    clamped_probs = x.clamp(min=eps)\n",
    "    clamped_log_probs = torch.log2(x).clamp(min=log_eps)\n",
    "    entropy = -torch.sum(clamped_probs * clamped_log_probs, dim=-1)\n",
    "    entropy = torch.where(entropy < 3e-6, 0.0, entropy)\n",
    "\n",
    "    return entropy"
   ]
  },
  {
   "cell_type": "code",
   "execution_count": 75,
   "metadata": {},
   "outputs": [
    {
     "data": {
      "text/plain": [
       "tensor([0.7532, 0.7620, 0.7427])"
      ]
     },
     "execution_count": 75,
     "metadata": {},
     "output_type": "execute_result"
    }
   ],
   "source": [
    "td_train[\"orig_probs\"][:, [6, 7, 8], 0].mean(dim=0)"
   ]
  },
  {
   "cell_type": "code",
   "execution_count": 76,
   "metadata": {},
   "outputs": [
    {
     "data": {
      "text/plain": [
       "tensor([0.7628, 0.7602, 0.7591])"
      ]
     },
     "execution_count": 76,
     "metadata": {},
     "output_type": "execute_result"
    }
   ],
   "source": [
    "td_train2[\"orig_probs\"][:, [6, 7, 8], 0].mean(dim=0)"
   ]
  },
  {
   "cell_type": "code",
   "execution_count": 67,
   "metadata": {},
   "outputs": [
    {
     "data": {
      "text/plain": [
       "tensor([[1.7383, 1.9355, 2.0436],\n",
       "        [1.0458, 0.4502, 0.4565],\n",
       "        [1.0702, 1.0225, 1.0781],\n",
       "        [1.4361, 0.5355, 0.4999],\n",
       "        [0.6108, 0.6073, 0.6248],\n",
       "        [1.0760, 0.5010, 0.5254],\n",
       "        [0.2693, 0.2468, 0.2703],\n",
       "        [0.7466, 0.4357, 0.4113],\n",
       "        [0.0678, 0.0616, 0.0567],\n",
       "        [0.5820, 0.4541, 0.3959],\n",
       "        [0.0000, 0.0000, 0.0000],\n",
       "        [0.0000, 0.0000, 0.0000]])"
      ]
     },
     "execution_count": 67,
     "metadata": {},
     "output_type": "execute_result"
    }
   ],
   "source": [
    "entropy(td_train[\"orig_probs\"]).mean(dim=0).reshape((-1, 3))"
   ]
  },
  {
   "cell_type": "code",
   "execution_count": 68,
   "metadata": {},
   "outputs": [
    {
     "data": {
      "text/plain": [
       "tensor([[1.4912, 1.5583, 1.5551],\n",
       "        [2.5848, 1.0716, 1.0773],\n",
       "        [1.1314, 1.1510, 1.1567],\n",
       "        [2.3218, 1.0699, 1.0574],\n",
       "        [0.7846, 0.7948, 0.7903],\n",
       "        [1.9999, 1.0412, 1.0455],\n",
       "        [0.4643, 0.4772, 0.4653],\n",
       "        [1.5849, 0.9744, 0.9624],\n",
       "        [0.2034, 0.1981, 0.2030],\n",
       "        [0.9999, 0.7098, 0.7033],\n",
       "        [0.0000, 0.0000, 0.0000],\n",
       "        [0.0000, 0.0000, 0.0000]])"
      ]
     },
     "execution_count": 68,
     "metadata": {},
     "output_type": "execute_result"
    }
   ],
   "source": [
    "entropy(td_train2[\"orig_probs\"]).mean(dim=0).reshape((-1, 3))"
   ]
  },
  {
   "cell_type": "code",
   "execution_count": 79,
   "metadata": {},
   "outputs": [
    {
     "data": {
      "text/plain": [
       "<Axes: >"
      ]
     },
     "execution_count": 79,
     "metadata": {},
     "output_type": "execute_result"
    },
    {
     "data": {
      "image/png": "[encoded data removed]",
      "text/plain": [
       "<Figure size 640x480 with 1 Axes>"
      ]
     },
     "metadata": {},
     "output_type": "display_data"
    }
   ],
   "source": [
    "s = pd.Series((td_train2[\"actions\"] != 0).float().mean(dim=0))\n",
    "s = s.groupby(s.index // 3).mean()\n",
    "s = s[s.index % 2 == 0]\n",
    "s.reset_index(inplace=True, drop=True)\n",
    "s.plot(marker=\".\", grid=True)"
   ]
  },
  {
   "cell_type": "code",
   "execution_count": 80,
   "metadata": {},
   "outputs": [
    {
     "data": {
      "text/plain": [
       "<Axes: >"
      ]
     },
     "execution_count": 80,
     "metadata": {},
     "output_type": "execute_result"
    },
    {
     "data": {
      "image/png": "[encoded data removed]",
      "text/plain": [
       "<Figure size 640x480 with 1 Axes>"
      ]
     },
     "metadata": {},
     "output_type": "display_data"
    }
   ],
   "source": [
    "s = pd.Series((td_train[\"actions\"] != 0).float().mean(dim=0))\n",
    "s = s.groupby(s.index // 3).mean()\n",
    "s = s[s.index % 2 == 0]\n",
    "s.reset_index(inplace=True, drop=True)\n",
    "s.plot(marker=\".\", grid=True)"
   ]
  },
  {
   "cell_type": "code",
   "execution_count": 87,
   "metadata": {},
   "outputs": [
    {
     "data": {
      "text/plain": [
       "0    0.606294\n",
       "1    0.698340\n",
       "2    0.572460\n",
       "3    0.407407\n",
       "4    0.196803\n",
       "5         NaN\n",
       "dtype: float32"
      ]
     },
     "execution_count": 87,
     "metadata": {},
     "output_type": "execute_result"
    }
   ],
   "source": [
    "s.shift(-1) / s"
   ]
  },
  {
   "cell_type": "code",
   "execution_count": null,
   "metadata": {},
   "outputs": [],
   "source": []
  }
 ],
 "metadata": {
  "kernelspec": {
   "display_name": "venv",
   "language": "python",
   "name": "python3"
  },
  "language_info": {
   "codemirror_mode": {
    "name": "ipython",
    "version": 3
   },
   "file_extension": ".py",
   "mimetype": "text/x-python",
   "name": "python",
   "nbconvert_exporter": "python",
   "pygments_lexer": "ipython3",
   "version": "3.12.8"
  }
 },
 "nbformat": 4,
 "nbformat_minor": 2
}
