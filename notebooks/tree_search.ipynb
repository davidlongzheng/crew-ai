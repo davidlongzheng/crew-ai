{
 "cells": [
  {
   "cell_type": "code",
   "execution_count": 8,
   "metadata": {},
   "outputs": [],
   "source": [
    "from dataclasses import replace\n",
    "\n",
    "import cpp_game\n",
    "from ai.ai import *\n",
    "from ai.tree_search import *\n",
    "from game.settings import *"
   ]
  },
  {
   "cell_type": "code",
   "execution_count": 9,
   "metadata": {},
   "outputs": [
    {
     "name": "stdout",
     "output_type": "stream",
     "text": [
      "The autoreload extension is already loaded. To reload it, use:\n",
      "  %reload_ext autoreload\n"
     ]
    }
   ],
   "source": [
    "%load_ext autoreload\n",
    "%autoreload 2"
   ]
  },
  {
   "cell_type": "code",
   "execution_count": 10,
   "metadata": {},
   "outputs": [],
   "source": [
    "settings = get_preset(DEFAULT_PRESET)\n",
    "settings = replace(settings, min_difficulty=7, max_difficulty=7)\n",
    "cpp_settings = settings.to_cpp()\n",
    "ai = get_ai(settings)\n",
    "engine = cpp_game.Engine(cpp_settings)"
   ]
  },
  {
   "cell_type": "code",
   "execution_count": 4,
   "metadata": {},
   "outputs": [
    {
     "name": "stdout",
     "output_type": "stream",
     "text": [
      "C++ time: 0.054s\n",
      "elapsed=0.215\n",
      "win_rate=0.465\n"
     ]
    }
   ],
   "source": [
    "from ai.rollout import do_batch_rollout_cpp\n",
    "\n",
    "cpp_settings = settings.to_cpp()\n",
    "batch_rollout = cpp_game.BatchRollout(cpp_settings, 200)\n",
    "\n",
    "start = time.time()\n",
    "td = do_batch_rollout_cpp(\n",
    "    batch_rollout, pv_model=ai.pv_model, argmax=True, record_cpp_time=True\n",
    ")\n",
    "print(f\"elapsed={time.time() - start:.3f}\")\n",
    "print(f\"win_rate={td['win'].float().mean().item():.3f}\")\n",
    "ai.pv_model.start_single_step()"
   ]
  },
  {
   "cell_type": "code",
   "execution_count": 43,
   "metadata": {},
   "outputs": [
    {
     "name": "stdout",
     "output_type": "stream",
     "text": [
      "[0.7200000286102295, 0.6200000047683716, 0.6600000262260437, 0.6399999856948853, 0.6200000047683716]\n",
      "[np.float64(1.9414507513241666), np.float64(1.3527288841185778), np.float64(1.6614942244436857), np.float64(1.9414507513241666)]\n"
     ]
    }
   ],
   "source": [
    "ts_settings_li = [\n",
    "    TreeSearchSettings(\n",
    "        num_iters=100,\n",
    "        seed=42,\n",
    "    ),\n",
    "    TreeSearchSettings(\n",
    "        num_iters=100,\n",
    "        root_noise=False,\n",
    "        seed=42,\n",
    "    ),\n",
    "    TreeSearchSettings(\n",
    "        num_iters=100,\n",
    "        skip_thresh=0.9,\n",
    "        seed=42,\n",
    "    ),\n",
    "    TreeSearchSettings(\n",
    "        num_iters=100,\n",
    "        num_parallel=10,\n",
    "        seed=42,\n",
    "    ),\n",
    "    TreeSearchSettings(\n",
    "        num_iters=100,\n",
    "        num_parallel=30,\n",
    "        seed=42,\n",
    "    ),\n",
    "]\n",
    "num_rollouts = 50\n",
    "engines = [cpp_game.Engine(cpp_settings) for _ in range(num_rollouts)]\n",
    "total_time = 0.0\n",
    "wins_li = []\n",
    "\n",
    "for ts_settings in ts_settings_li:\n",
    "    ai = get_ai(settings, ts_settings, num_rollouts)\n",
    "    seeds = list(range(42, 42 + num_rollouts))\n",
    "\n",
    "    start_time = time.time()\n",
    "    wins = batch_rollout(engines, ai, seeds=seeds, use_tree_search=True)\n",
    "    total_time += time.time() - start_time\n",
    "    wins_li.append(wins)\n",
    "\n",
    "wins = np.array(wins_li).astype(np.float32)\n",
    "\n",
    "from scipy.stats import ttest_rel\n",
    "\n",
    "win_rates = np.mean(wins, axis=1).tolist()\n",
    "print(win_rates)\n",
    "tstats = [ttest_rel(wins[0], x).statistic for x in wins[1:]]\n",
    "print(tstats)"
   ]
  },
  {
   "cell_type": "code",
   "execution_count": null,
   "metadata": {},
   "outputs": [],
   "source": []
  }
 ],
 "metadata": {
  "kernelspec": {
   "display_name": "venv",
   "language": "python",
   "name": "python3"
  },
  "language_info": {
   "codemirror_mode": {
    "name": "ipython",
    "version": 3
   },
   "file_extension": ".py",
   "mimetype": "text/x-python",
   "name": "python",
   "nbconvert_exporter": "python",
   "pygments_lexer": "ipython3",
   "version": "3.12.8"
  }
 },
 "nbformat": 4,
 "nbformat_minor": 2
}
