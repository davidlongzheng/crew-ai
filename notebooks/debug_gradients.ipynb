{
 "cells": [
  {
   "cell_type": "code",
   "execution_count": 1,
   "metadata": {},
   "outputs": [],
   "source": [
    "import site\n",
    "\n",
    "site.addsitedir(\"..\")\n",
    "\n",
    "from pathlib import Path\n",
    "\n",
    "import pandas as pd\n",
    "from matplotlib import pyplot as plt\n",
    "\n",
    "from src.ai.train import *\n",
    "import dataclasses"
   ]
  },
  {
   "cell_type": "code",
   "execution_count": 2,
   "metadata": {},
   "outputs": [],
   "source": [
    "outdir = Path(\"/Users/davidzheng/projects/crew-ai/outdirs/0320/run_1\")"
   ]
  },
  {
   "cell_type": "code",
   "execution_count": null,
   "metadata": {},
   "outputs": [],
   "source": [
    "settings_dict = torch.load(outdir / \"settings.pth\", weights_only=False)\n",
    "settings = settings_dict[\"settings\"]\n",
    "settings = dataclasses.replace(settings, tasks=tuple(settings.tasks))\n",
    "hp = settings_dict[\"hp\"]\n",
    "models = get_models(hp, settings)\n",
    "value_model = models[\"value\"].eval()\n",
    "value_optim = create_optim([value_model], hp.value_lr, hp.weight_decay)"
   ]
  },
  {
   "cell_type": "code",
   "execution_count": 4,
   "metadata": {},
   "outputs": [
    {
     "name": "stdout",
     "output_type": "stream",
     "text": [
      "torch.Size([8192]) torch.Size([4096])\n"
     ]
    }
   ],
   "source": [
    "checkpoint = torch.load(outdir / \"checkpoint.pth\", weights_only=False)\n",
    "value_model.load_state_dict(checkpoint[\"value_model\"])\n",
    "value_optim.load_state_dict(checkpoint[\"value_optim\"])\n",
    "td = checkpoint[\"td\"]\n",
    "td_train = td[: hp.num_train_rollouts_per_round]\n",
    "td_val = td[hp.num_train_rollouts_per_round :]\n",
    "print(td_train.shape, td_val.shape)"
   ]
  },
  {
   "cell_type": "code",
   "execution_count": 5,
   "metadata": {},
   "outputs": [
    {
     "name": "stdout",
     "output_type": "stream",
     "text": [
      "torch.Size([8192, 18, 24]) torch.Size([8192, 18, 24])\n",
      "torch.Size([8192, 18, 1]) 1 torch.Size([8192, 18, 3])\n"
     ]
    }
   ],
   "source": [
    "value_model.train()\n",
    "value_optim.zero_grad()\n",
    "values, aux_info_preds = value_model(td_train[\"inps\"])\n",
    "\n",
    "cont_targets = td_train[\"aux_infos\"][\"cont\"]\n",
    "cont_preds = aux_info_preds[0]\n",
    "\n",
    "cat_targets = td_train[\"aux_infos\"][\"cat\"]\n",
    "cat_preds = aux_info_preds[1:]\n",
    "\n",
    "print(cont_targets.shape, cont_preds.shape)\n",
    "print(cat_targets.shape, len(cat_preds), cat_preds[0].shape)"
   ]
  },
  {
   "cell_type": "code",
   "execution_count": 6,
   "metadata": {},
   "outputs": [
    {
     "name": "stdout",
     "output_type": "stream",
     "text": [
      "0: norm=0.0147 loss=0.0124\n",
      "1: norm=0.0152 loss=0.0166\n",
      "2: norm=0.0535 loss=0.0367\n",
      "3: norm=0.0730 loss=0.0755\n",
      "4: norm=0.0747 loss=0.0955\n",
      "5: norm=0.0638 loss=0.0943\n"
     ]
    }
   ],
   "source": [
    "cont_idxs = [\n",
    "    [0, 3, 6],\n",
    "    [1, 4, 7],\n",
    "    [2, 5, 8],\n",
    "    [9, 12, 15, 18, 21],\n",
    "    [10, 13, 16, 19, 22],\n",
    "    [11, 14, 17, 20, 23],\n",
    "]\n",
    "\n",
    "for i, _cont_idxs in enumerate(cont_idxs):\n",
    "    loss = get_mse_loss()(cont_preds[..., _cont_idxs], cont_targets[..., _cont_idxs])\n",
    "    loss.backward(retain_graph=True)\n",
    "\n",
    "    norm = (\n",
    "        sum(\n",
    "            p.grad.data.norm(2).item() ** 2\n",
    "            for p in value_model.parameters()\n",
    "            if p.grad is not None and p.requires_grad\n",
    "        )\n",
    "        ** 0.5\n",
    "    )\n",
    "    print(f\"{i}: norm={norm:.4f} loss={loss.item():.4f}\")\n",
    "\n",
    "    value_optim.zero_grad()"
   ]
  },
  {
   "cell_type": "code",
   "execution_count": 7,
   "metadata": {},
   "outputs": [
    {
     "name": "stdout",
     "output_type": "stream",
     "text": [
      "0: norm=0.4770 loss=0.6787\n"
     ]
    }
   ],
   "source": [
    "for i, cat_pred in enumerate(cat_preds):\n",
    "    cat_target = cat_targets[..., i]\n",
    "    loss = get_cross_entropy_loss()(\n",
    "        cat_pred.reshape((-1, cat_pred.shape[-1])), cat_target.reshape((-1,))\n",
    "    )\n",
    "    loss.backward(retain_graph=True)\n",
    "\n",
    "    norm = (\n",
    "        sum(\n",
    "            p.grad.data.norm(2).item() ** 2\n",
    "            for p in value_model.parameters()\n",
    "            if p.grad is not None and p.requires_grad\n",
    "        )\n",
    "        ** 0.5\n",
    "    )\n",
    "    print(f\"{i}: norm={norm:.4f} loss={loss.item():.4f}\")\n",
    "\n",
    "    value_optim.zero_grad()\n"
   ]
  },
  {
   "cell_type": "code",
   "execution_count": 8,
   "metadata": {},
   "outputs": [
    {
     "name": "stdout",
     "output_type": "stream",
     "text": [
      "0: norm=0.0534 loss=0.0961\n"
     ]
    }
   ],
   "source": [
    "loss = get_mse_loss()(values, td_train[\"value_targets\"])\n",
    "loss.backward(retain_graph=True)\n",
    "norm = (\n",
    "    sum(\n",
    "        p.grad.data.norm(2).item() ** 2\n",
    "        for p in value_model.parameters()\n",
    "        if p.grad is not None and p.requires_grad\n",
    "    )\n",
    "    ** 0.5\n",
    ")\n",
    "print(f\"{i}: norm={norm:.4f} loss={loss.item():.4f}\")\n",
    "\n",
    "value_optim.zero_grad()\n"
   ]
  },
  {
   "cell_type": "code",
   "execution_count": 7,
   "metadata": {},
   "outputs": [],
   "source": [
    "df_train_first = pd.DataFrame(\n",
    "    {\"pred\": td_train[\"values\"][:, 0], \"y\": td_train[\"value_targets\"][:, 0]}\n",
    ")\n",
    "df_train_last = pd.DataFrame(\n",
    "    {\"pred\": td_train[\"values\"][:, -1], \"y\": td_train[\"value_targets\"][:, -1]}\n",
    ")"
   ]
  },
  {
   "cell_type": "code",
   "execution_count": 8,
   "metadata": {},
   "outputs": [
    {
     "data": {
      "image/png": "[encoded data removed]",
      "text/plain": [
       "<Figure size 400x200 with 1 Axes>"
      ]
     },
     "metadata": {},
     "output_type": "display_data"
    },
    {
     "data": {
      "image/png": "[encoded data removed]",
      "text/plain": [
       "<Figure size 400x200 with 1 Axes>"
      ]
     },
     "metadata": {},
     "output_type": "display_data"
    },
    {
     "data": {
      "image/png": "[encoded data removed]",
      "text/plain": [
       "<Figure size 400x200 with 1 Axes>"
      ]
     },
     "metadata": {},
     "output_type": "display_data"
    }
   ],
   "source": [
    "for y, sub_df in df_train_first.groupby(\"y\"):\n",
    "    ax = plt.gca()\n",
    "    sub_df[\"pred\"].plot.hist(bins=100, label=y, ax=ax, figsize=(4, 2))\n",
    "    plt.axvline(y, color=\"black\")\n",
    "    plt.show()"
   ]
  },
  {
   "cell_type": "code",
   "execution_count": 9,
   "metadata": {},
   "outputs": [
    {
     "data": {
      "image/png": "[encoded data removed]",
      "text/plain": [
       "<Figure size 400x200 with 1 Axes>"
      ]
     },
     "metadata": {},
     "output_type": "display_data"
    },
    {
     "data": {
      "image/png": "[encoded data removed]",
      "text/plain": [
       "<Figure size 400x200 with 1 Axes>"
      ]
     },
     "metadata": {},
     "output_type": "display_data"
    },
    {
     "data": {
      "image/png": "[encoded data removed]",
      "text/plain": [
       "<Figure size 400x200 with 1 Axes>"
      ]
     },
     "metadata": {},
     "output_type": "display_data"
    }
   ],
   "source": [
    "for y, sub_df in df_train_last.groupby(\"y\"):\n",
    "    ax = plt.gca()\n",
    "    sub_df[\"pred\"].plot.hist(bins=100, label=y, ax=ax, figsize=(4, 2))\n",
    "    plt.axvline(y, color=\"black\")\n",
    "    plt.show()"
   ]
  },
  {
   "cell_type": "code",
   "execution_count": 57,
   "metadata": {},
   "outputs": [
    {
     "data": {
      "text/html": [
       "<div>\n",
       "<style scoped>\n",
       "    .dataframe tbody tr th:only-of-type {\n",
       "        vertical-align: middle;\n",
       "    }\n",
       "\n",
       "    .dataframe tbody tr th {\n",
       "        vertical-align: top;\n",
       "    }\n",
       "\n",
       "    .dataframe thead th {\n",
       "        text-align: right;\n",
       "    }\n",
       "</style>\n",
       "<table border=\"1\" class=\"dataframe\">\n",
       "  <thead>\n",
       "    <tr style=\"text-align: right;\">\n",
       "      <th></th>\n",
       "      <th>pred</th>\n",
       "      <th>y</th>\n",
       "      <th>err</th>\n",
       "    </tr>\n",
       "  </thead>\n",
       "  <tbody>\n",
       "    <tr>\n",
       "      <th>1310</th>\n",
       "      <td>-0.359089</td>\n",
       "      <td>1.000000</td>\n",
       "      <td>1.847124</td>\n",
       "    </tr>\n",
       "    <tr>\n",
       "      <th>2995</th>\n",
       "      <td>0.999790</td>\n",
       "      <td>-0.333333</td>\n",
       "      <td>1.777218</td>\n",
       "    </tr>\n",
       "    <tr>\n",
       "      <th>1621</th>\n",
       "      <td>-0.303757</td>\n",
       "      <td>1.000000</td>\n",
       "      <td>1.699781</td>\n",
       "    </tr>\n",
       "    <tr>\n",
       "      <th>3535</th>\n",
       "      <td>-0.293424</td>\n",
       "      <td>1.000000</td>\n",
       "      <td>1.672945</td>\n",
       "    </tr>\n",
       "    <tr>\n",
       "      <th>3542</th>\n",
       "      <td>-0.276222</td>\n",
       "      <td>1.000000</td>\n",
       "      <td>1.628742</td>\n",
       "    </tr>\n",
       "  </tbody>\n",
       "</table>\n",
       "</div>"
      ],
      "text/plain": [
       "          pred         y       err\n",
       "1310 -0.359089  1.000000  1.847124\n",
       "2995  0.999790 -0.333333  1.777218\n",
       "1621 -0.303757  1.000000  1.699781\n",
       "3535 -0.293424  1.000000  1.672945\n",
       "3542 -0.276222  1.000000  1.628742"
      ]
     },
     "metadata": {},
     "output_type": "display_data"
    },
    {
     "data": {
      "text/html": [
       "<div>\n",
       "<style scoped>\n",
       "    .dataframe tbody tr th:only-of-type {\n",
       "        vertical-align: middle;\n",
       "    }\n",
       "\n",
       "    .dataframe tbody tr th {\n",
       "        vertical-align: top;\n",
       "    }\n",
       "\n",
       "    .dataframe thead th {\n",
       "        text-align: right;\n",
       "    }\n",
       "</style>\n",
       "<table border=\"1\" class=\"dataframe\">\n",
       "  <thead>\n",
       "    <tr style=\"text-align: right;\">\n",
       "      <th></th>\n",
       "      <th>player</th>\n",
       "      <th>trick</th>\n",
       "      <th>value</th>\n",
       "      <th>action_suit</th>\n",
       "      <th>action_rank</th>\n",
       "    </tr>\n",
       "  </thead>\n",
       "  <tbody>\n",
       "    <tr>\n",
       "      <th>0</th>\n",
       "      <td>0</td>\n",
       "      <td>0</td>\n",
       "      <td>0.263816</td>\n",
       "      <td>0</td>\n",
       "      <td>0</td>\n",
       "    </tr>\n",
       "    <tr>\n",
       "      <th>1</th>\n",
       "      <td>1</td>\n",
       "      <td>0</td>\n",
       "      <td>0.332846</td>\n",
       "      <td>0</td>\n",
       "      <td>1</td>\n",
       "    </tr>\n",
       "    <tr>\n",
       "      <th>2</th>\n",
       "      <td>2</td>\n",
       "      <td>0</td>\n",
       "      <td>0.285974</td>\n",
       "      <td>0</td>\n",
       "      <td>3</td>\n",
       "    </tr>\n",
       "    <tr>\n",
       "      <th>3</th>\n",
       "      <td>2</td>\n",
       "      <td>1</td>\n",
       "      <td>0.204340</td>\n",
       "      <td>3</td>\n",
       "      <td>3</td>\n",
       "    </tr>\n",
       "    <tr>\n",
       "      <th>4</th>\n",
       "      <td>0</td>\n",
       "      <td>1</td>\n",
       "      <td>0.126761</td>\n",
       "      <td>3</td>\n",
       "      <td>1</td>\n",
       "    </tr>\n",
       "    <tr>\n",
       "      <th>5</th>\n",
       "      <td>1</td>\n",
       "      <td>1</td>\n",
       "      <td>0.109192</td>\n",
       "      <td>3</td>\n",
       "      <td>0</td>\n",
       "    </tr>\n",
       "    <tr>\n",
       "      <th>6</th>\n",
       "      <td>2</td>\n",
       "      <td>2</td>\n",
       "      <td>0.004164</td>\n",
       "      <td>3</td>\n",
       "      <td>2</td>\n",
       "    </tr>\n",
       "    <tr>\n",
       "      <th>7</th>\n",
       "      <td>0</td>\n",
       "      <td>2</td>\n",
       "      <td>0.064216</td>\n",
       "      <td>4</td>\n",
       "      <td>1</td>\n",
       "    </tr>\n",
       "    <tr>\n",
       "      <th>8</th>\n",
       "      <td>1</td>\n",
       "      <td>2</td>\n",
       "      <td>0.033825</td>\n",
       "      <td>1</td>\n",
       "      <td>3</td>\n",
       "    </tr>\n",
       "    <tr>\n",
       "      <th>9</th>\n",
       "      <td>0</td>\n",
       "      <td>3</td>\n",
       "      <td>0.026473</td>\n",
       "      <td>0</td>\n",
       "      <td>2</td>\n",
       "    </tr>\n",
       "    <tr>\n",
       "      <th>10</th>\n",
       "      <td>1</td>\n",
       "      <td>3</td>\n",
       "      <td>0.029926</td>\n",
       "      <td>2</td>\n",
       "      <td>1</td>\n",
       "    </tr>\n",
       "    <tr>\n",
       "      <th>11</th>\n",
       "      <td>2</td>\n",
       "      <td>3</td>\n",
       "      <td>-0.021438</td>\n",
       "      <td>4</td>\n",
       "      <td>0</td>\n",
       "    </tr>\n",
       "    <tr>\n",
       "      <th>12</th>\n",
       "      <td>2</td>\n",
       "      <td>4</td>\n",
       "      <td>-0.160741</td>\n",
       "      <td>1</td>\n",
       "      <td>1</td>\n",
       "    </tr>\n",
       "    <tr>\n",
       "      <th>13</th>\n",
       "      <td>0</td>\n",
       "      <td>4</td>\n",
       "      <td>-0.105724</td>\n",
       "      <td>1</td>\n",
       "      <td>0</td>\n",
       "    </tr>\n",
       "    <tr>\n",
       "      <th>14</th>\n",
       "      <td>1</td>\n",
       "      <td>4</td>\n",
       "      <td>-0.063570</td>\n",
       "      <td>1</td>\n",
       "      <td>2</td>\n",
       "    </tr>\n",
       "    <tr>\n",
       "      <th>15</th>\n",
       "      <td>1</td>\n",
       "      <td>5</td>\n",
       "      <td>0.918858</td>\n",
       "      <td>2</td>\n",
       "      <td>2</td>\n",
       "    </tr>\n",
       "    <tr>\n",
       "      <th>16</th>\n",
       "      <td>2</td>\n",
       "      <td>5</td>\n",
       "      <td>0.939985</td>\n",
       "      <td>2</td>\n",
       "      <td>3</td>\n",
       "    </tr>\n",
       "    <tr>\n",
       "      <th>17</th>\n",
       "      <td>0</td>\n",
       "      <td>5</td>\n",
       "      <td>0.999790</td>\n",
       "      <td>2</td>\n",
       "      <td>0</td>\n",
       "    </tr>\n",
       "  </tbody>\n",
       "</table>\n",
       "</div>"
      ],
      "text/plain": [
       "    player  trick     value  action_suit  action_rank\n",
       "0        0      0  0.263816            0            0\n",
       "1        1      0  0.332846            0            1\n",
       "2        2      0  0.285974            0            3\n",
       "3        2      1  0.204340            3            3\n",
       "4        0      1  0.126761            3            1\n",
       "5        1      1  0.109192            3            0\n",
       "6        2      2  0.004164            3            2\n",
       "7        0      2  0.064216            4            1\n",
       "8        1      2  0.033825            1            3\n",
       "9        0      3  0.026473            0            2\n",
       "10       1      3  0.029926            2            1\n",
       "11       2      3 -0.021438            4            0\n",
       "12       2      4 -0.160741            1            1\n",
       "13       0      4 -0.105724            1            0\n",
       "14       1      4 -0.063570            1            2\n",
       "15       1      5  0.918858            2            2\n",
       "16       2      5  0.939985            2            3\n",
       "17       0      5  0.999790            2            0"
      ]
     },
     "metadata": {},
     "output_type": "display_data"
    }
   ],
   "source": [
    "err_df = df_train_last.copy()\n",
    "err_df[\"err\"] = (err_df[\"pred\"] - err_df[\"y\"]) ** 2\n",
    "err_df.sort_values(\"err\", ascending=False, inplace=True)\n",
    "display(err_df.head())\n",
    "ex_idx = err_df.index[1]\n",
    "\n",
    "ex_td = td_train[ex_idx]\n",
    "ex_df = {}\n",
    "for k, c in [\n",
    "    ((\"inps\", \"private\", \"player_idx\"), \"player\"),\n",
    "    ((\"inps\", \"private\", \"trick\"), \"trick\"),\n",
    "    (\"values\", \"value\"),\n",
    "]:\n",
    "    ex_df[c] = ex_td[k]\n",
    "ex_df = pd.DataFrame(ex_df)\n",
    "ex_valid_actions = ex_td[\"inps\"][\"valid_actions\"]\n",
    "ex_action_idxs = ex_td[\"actions\"]\n",
    "ex_actions = ex_valid_actions[torch.arange(len(ex_valid_actions)), ex_action_idxs, :]\n",
    "ex_df[\"action_suit\"] = ex_actions[:, 1]\n",
    "ex_df[\"action_rank\"] = ex_actions[:, 0]\n",
    "display(ex_df)"
   ]
  },
  {
   "cell_type": "code",
   "execution_count": 52,
   "metadata": {},
   "outputs": [
    {
     "data": {
      "text/plain": [
       "tensor([ 0.0133,  0.0043, -0.0071, -0.0229,  0.0455,  0.0005,  0.0391, -0.0109,\n",
       "         0.0252,  0.0236, -0.0162, -0.0895, -0.0253,  0.0211, -0.0602, -0.0253,\n",
       "        -0.0229, -0.1088])"
      ]
     },
     "execution_count": 52,
     "metadata": {},
     "output_type": "execute_result"
    }
   ],
   "source": [
    "ex_td[\"unnorm_advantages\"]"
   ]
  },
  {
   "cell_type": "code",
   "execution_count": 55,
   "metadata": {},
   "outputs": [
    {
     "data": {
      "text/plain": [
       "tensor([-0.4226, -0.4441, -0.4713, -0.5089, -0.3460, -0.4532, -0.3612, -0.4804,\n",
       "        -0.3944, -0.3982, -0.4931, -0.6677, -0.5147, -0.4040, -0.5978, -0.5148,\n",
       "        -0.5091, -0.7137])"
      ]
     },
     "execution_count": 55,
     "metadata": {},
     "output_type": "execute_result"
    }
   ],
   "source": [
    "ex_td[\"advantages\"]"
   ]
  },
  {
   "cell_type": "code",
   "execution_count": 54,
   "metadata": {},
   "outputs": [
    {
     "data": {
      "text/plain": [
       "tensor([-0.2810, -0.2838, -0.2867, -0.2896, -0.2925, -0.2955, -0.2984, -0.3015,\n",
       "        -0.3045, -0.3076, -0.3107, -0.3138, -0.3170, -0.3202, -0.3234, -0.3267,\n",
       "        -0.3300, -0.3333])"
      ]
     },
     "execution_count": 54,
     "metadata": {},
     "output_type": "execute_result"
    }
   ],
   "source": [
    "ex_td[\"value_targets\"]"
   ]
  },
  {
   "cell_type": "code",
   "execution_count": 47,
   "metadata": {},
   "outputs": [
    {
     "data": {
      "text/plain": [
       "_StringKeys(dict_keys(['inps', 'actions', 'orig_log_probs', 'rewards', 'frac_success', 'values', 'unnorm_advantages', 'advantages', 'value_targets']))"
      ]
     },
     "execution_count": 47,
     "metadata": {},
     "output_type": "execute_result"
    }
   ],
   "source": [
    "ex_td.keys()"
   ]
  },
  {
   "cell_type": "code",
   "execution_count": null,
   "metadata": {},
   "outputs": [],
   "source": []
  }
 ],
 "metadata": {
  "kernelspec": {
   "display_name": "venv",
   "language": "python",
   "name": "python3"
  },
  "language_info": {
   "codemirror_mode": {
    "name": "ipython",
    "version": 3
   },
   "file_extension": ".py",
   "mimetype": "text/x-python",
   "name": "python",
   "nbconvert_exporter": "python",
   "pygments_lexer": "ipython3",
   "version": "3.12.8"
  }
 },
 "nbformat": 4,
 "nbformat_minor": 2
}
